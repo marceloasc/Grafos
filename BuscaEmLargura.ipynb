{
  "nbformat": 4,
  "nbformat_minor": 0,
  "metadata": {
    "colab": {
      "name": "BuscaEmLargura.ipynb",
      "provenance": [],
      "collapsed_sections": [],
      "include_colab_link": true
    },
    "kernelspec": {
      "name": "python3",
      "display_name": "Python 3"
    },
    "language_info": {
      "name": "python"
    }
  },
  "cells": [
    {
      "cell_type": "markdown",
      "metadata": {
        "id": "view-in-github",
        "colab_type": "text"
      },
      "source": [
        "<a href=\"https://colab.research.google.com/github/marceloasc/Grafos/blob/main/BuscaEmLargura.ipynb\" target=\"_parent\"><img src=\"https://colab.research.google.com/assets/colab-badge.svg\" alt=\"Open In Colab\"/></a>"
      ]
    },
    {
      "cell_type": "markdown",
      "metadata": {
        "id": "5GBlLAgKGibN"
      },
      "source": [
        "1º)"
      ]
    },
    {
      "cell_type": "code",
      "metadata": {
        "id": "Xt-3yMvPSkNn"
      },
      "source": [
        "import networkx as nx \n",
        "import matplotlib.pyplot as plt\n",
        "\n",
        "\n",
        "G = nx.Graph()\n",
        "G.add_nodes_from([1,2,3,4,5])\n",
        "G.add_edges_from([(1,2), (2,3), (2,4), (3,5), (4,5)])\n",
        "\n",
        "\n",
        "Visitados = []\n",
        "Explorados = []\n",
        "\n",
        "\n",
        "def BuscaEmLargura(Grafo, Vertice, Visitados, Explorados):\n",
        "  Fila = []\n",
        "  Visitados.append(Vertice)\n",
        "  Fila.append(Vertice)\n",
        "\n",
        "  while len(Fila) > 0:\n",
        "    u = Fila[0]\n",
        "    Fila.remove(u)\n",
        "    Explorados.append(u)\n",
        "\n",
        "    for w in list(nx.neighbors(Grafo, u)):\n",
        "      if w not in Visitados:\n",
        "        Visitados.append(w)\n",
        "        Fila.append(w)\n",
        "         \n",
        "  return f'Visitados:{Visitados} | Explorados:{Explorados}'\n",
        "\n",
        "\n",
        "\n",
        "BuscaEmLargura(G, 1, Visitados, Explorados)\n",
        "\n"
      ],
      "execution_count": null,
      "outputs": []
    }
  ]
}