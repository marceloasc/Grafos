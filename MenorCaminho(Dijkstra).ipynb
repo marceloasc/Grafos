{
  "nbformat": 4,
  "nbformat_minor": 0,
  "metadata": {
    "colab": {
      "name": "MenorCaminho(Dijkstra).ipynb",
      "provenance": [],
      "collapsed_sections": [],
      "authorship_tag": "ABX9TyNQCMW2ACzpGElfCXbZISf0",
      "include_colab_link": true
    },
    "kernelspec": {
      "name": "python3",
      "display_name": "Python 3"
    },
    "language_info": {
      "name": "python"
    }
  },
  "cells": [
    {
      "cell_type": "markdown",
      "metadata": {
        "id": "view-in-github",
        "colab_type": "text"
      },
      "source": [
        "<a href=\"https://colab.research.google.com/github/marceloasc/Grafos/blob/main/MenorCaminho(Dijkstra).ipynb\" target=\"_parent\"><img src=\"https://colab.research.google.com/assets/colab-badge.svg\" alt=\"Open In Colab\"/></a>"
      ]
    },
    {
      "cell_type": "markdown",
      "source": [
        "![Sem título.png](data:image/png;base64,iVBORw0KGgoAAAANSUhEUgAAAk8AAAHNCAIAAACINQh3AAAAAXNSR0IArs4c6QAAAARnQU1BAACxjwv8YQUAAAAJcEhZcwAADsMAAA7DAcdvqGQAACGlSURBVHhe7dzreds6FkbhU5cLSj2pxs2kmBmLXLABA5RI8YbLen/M8xx8ICWBG9iR48x//5MkqXd2O0lS/+x2kqT+2e0kSf2z20mS+me3kyT1z24nSeqf3U6S1D+7nSSpf3Y7veO/ZcyQpJp4NmkDGto6XCNJFfBI0ip0sO24XpJu5WGkF+ha+3AvSbqJx5AW0amOw30l6XIeQCqjQS1jXopsGfMk6VqePiqgNZUw4xVmlzBDki7k0aPfaEoZ4i24MkMsSVfx3FGCdpQiexd3SZFJ0iU8dPSDRpQi24d7pcgk6XyeOPpBF4oQHIE7Rggk6XyeOAItKEJwHO4bIZCkk3ncCPSfgNGjcfeAUUk6mceNHmg+EYKjcfcIgSSdybNGD3SegNFz8BoBo5J0Js8aXf19i9eIEEjSaTxotPPL1r+/H4+r/nzy32tMr/ODUUk6jQeNdvSezz9cY7eTVDcPGr3be6YvdR9//809b0+3+0IgSefwlBkd3SZgdJPt3e7L/HLfGJWkc3jKjI5uEzC6id1OUvU8ZUZHtwkY3cRuJ6l6njKjo9sEjG5it5NUPU+Z0dFtAkY3sdtJqp6nzOjoNgGjm9jtJFXPU2Z0dJuA0U3sdpKq5ykzOrpNwOgmdjtJ1fOU0buNh//LsNTjX5u/xuQIgSSdw1NGN3zN4pUCRiXpNB40sttJ6p8Hja7+uSKvESGQpNN40OiBthMweg5eI0IgSafxoNEDbSdCcDTuniGWpHN4ygi0nYDRo3H3BUySpKN5vgg0nBTZQbjpU0yVpEN5uOgHDSdFthu3W4drJOkgHiv6QatJke3DvVJL47P5Qkk6hGeKftBnMsTv4i4psglDJcyQpH08TQTayzLmbcGVGeIIQQkzJGkHjxI90FhW4IIVuCBDXMKMEmZI0ls8RLSh1cW4OEW2jHnLmFfCDEnazhNkdHSS1JNoj/m2a3BBCTMkaQvPjqHRQFJkAaP7cK8tuLKEGZK0mgfHuGgdKbIU2bu4y1u4RQkzJGkFj4xB0TFSZMuYtxqX7cO9FjBJkp7ysBgRjSJFtg7XlDDjaNy9hBmStMyTYji0iBRZ9Xi7JcyQpBLPiLHQGVJkjeBNlzBDkjIeEAOhJ6TIWsO7L2GGJEU8GkZBK0iRtYnPUMIMSQo8F4ZAE0iRNY4PU8IMSbLbjYCzP0XWBT5SCTMkDc/joHOc+imyvvDZSpghaWAeBD3jsE+R9YhPWMIMSaPyFOgWx3yKrGt81BJmSBqP+79PnO4psgHwgRcwSdJI3Pkd4lBPkY2ET17CDEnDcNv3huM8RTYePv8CJkkagBu+K5ziKbKBsRAlzJDUO3d7Pzi/U2Sy50ljc593gmM7RaaAdSlhhqROucl7wIGdIlOGBSphhqTuuL2bxzmdItMClqmEGZL64t5uGyd0ikyvsF4lzJDUC3d1wziYU2Rah1UrYYakLrilm8R5nCHWRixfCTMkNc7N3B6O4Qyx3sIiLmCSpGa5jRvD6Zsh1j6sZgkzJLXJPdwSzt0MsY7Ami5gkqTWuHubwXGbIdahWNwSZkhqilu3DRy0GWKdg1UuYYakRrhpG8D5miHWmVjrEmZU6N/fD95j5OPvP2JpRJ6YteOoyhDrEix6CTOqMnU7u5sU89CsGgdqhlgXYulLmFEPu52U8dxc69cPh/58Mn4eXilDrDvwDEqYUQO7nZTx6FzlcXpEh8fnn8fpduppMp2fBcS6D0+ihBm3s9tJGU/P90z97rTjZD46fyFTHXgqJcy40a8fRHy54GcRUt08Q98zHyenHCHz6fQLmWrCs1nApBrMP4uw42lsHqPvOeu73XQq/UamKvGQSphRg3N/GCE1wJP0LeecHdMJ+RuZKsajWsCke534wwipDR6mbzjl5JgOxt/I1AKeWQkzbmS30/A8Tzeb/xLk2HPjcccMmZrCwythxh1sdpJH6jbzqXHszzCnk/A3MjWIR1jCjJN9/YEsKdEz/oAmtcZTdYO51R17ajxumCFTy3iWJcw4D5X6w04nebCuNv8B+dCvddNB9BuZ2scTLWGGpKu469Y54SeY86n3C5k6wqMtYYak87nfVpm/1+Xebn9cnyJTd3jAJcyQdDI32w0451Jk6hdPuoQZkk7jNrsax1uKTL3jeZcwQ9I53GOX4mBLkWkYPPgSZkg6mrvrOpxnKTINhse/gEmSjuO+ugjHWIpMo6IOSpgh6SBuqitwgKXINDwKooQZknZzO52OcytFJk0oixJmSNrHvXQuTqwUmZSiPkqYIeld7qITcVClyKQSqqSEGZLe4hY6C0dUikx6inIpYYakjdw8p+BkSpFJK1A0JcyQtIU753icSSkyaQuqp4QZktZxzxyMoyhFJm1HDZUwQ9IKbpgjcQilyKQdKKYSZkh6yq1yGM6eFJm0GyW1gEmSFrhJjsGRkyKTjkNtlTBDUok75AAcNiky6WhU2AImSUq5N/bijEmRSaeh1EqYISnixtiF0yVFJp2PmithhqSJW+J9HCopMukqVF4JMyTZ7d7GcZIiky5HCZYwQxqbO+EdnCIpMukmFGIJM6SBuQ024/xIkUl3oyJLmCENyQ2wDcdGikyqA3VZwgxpPFb/BhwYKTKpMhRoCTOkkVj3a3FOpMikKlGmC5gkjcGKX4XjIUUm1Y16LWGGNADL/TUOhhSZ1AKqdgGTpK5Z6C9wHqTIpKZQviXMkPpllT/DSZAik9pEHZcwQ+qR9b2IAyBFJrWMai5hhtQdi7uMrZ8ik7pAWZcwQ+qIZV3Ajk+RSR2huEuYIfXCmv6NvZ4ik3pElZcwQ2qf1Zxgi6fIpH5R6yXMkBpnKf9gc6fIpAFQ9CXMkJplEYM9nSKThkHpL2CS1CDL94GtnCKTxsMeKGGG1JrRa5cdnCGWRsVOWMAkqR1DVy0bN0MsDY8tUcIMqRHjlixbNkMsKWBvlDBDqt6gxcpOzRBLSrFDSpgh1W3ESmWPZoglLWCrlDBDqtVwNcrWzBBLeooNU8IMqUpjFSibMkMsaR12TgkzpMoMVJrsxQyxpC3YPyXMkGoySl2yCzPEkt7CRiphhlSHISqSzZchlrQD26mEGVIF+i9Htl2GWNIR2FclzJBu1XkhsttSZJIOxQZbwCTpJj2XIJssRSbpHOy0EmZId+i2/theKTJJJ2PLlTBDulaflceuSpFJugQbr4QZ0oU6LDv2U4pM0rXYgSXMkC7RW8GxjVJkku7APixhhnS+rqqNDZQik3QrNmQJM6Qz9VNn7JsUmaQKsC1LmCGdppMiY8ekyCTVhP1ZwgzpBD2UFxslRSapPuzSEmZIR2u+ttgiKTJJFWO7ljBDOk7bVcXOSJFJqh6bdgGTpCM0XE9siBSZpHawe0uYIe3WajGxFVJkklrDHl7AJGmHJsuIHZAik9QsNnMJM6R3tVdD1H6KTFL72NUlzJC2a6x6KPkUmaResLdLmCFtVEvpUMglzLDVSYNhk5cwQ1rt5qKhct/FXSR1iq1ewgxpndsqhoLdgRupXf/+fjye5J9P/jtgPPXx9x+xhkMNlDBDeuWGWqFI9+FealbU0crdzu6mGMVSwgzpqUsLhdo8DvdVaz7/PB7fx9/PqeXZ7bTWo24WMENacF2JUJLLmJciW8Y8teTR7KYWN3/Bs9tpg3njL2GSlLmoOKjEEma8wuwSZqg9dju9ad77RcyQUldUBjWYId6CKzPEasyzbpfIpkjUxgImScHpNUHppcjexV1SZGrJQrf7Zf5bPjueSqbaKGOGNDm3ICi6FNk+3CtFpmas63Zfpobnzza1ZDoAypih4V3d7QiOwB0jBGrG6m63eqKGNZ0BZcxYgQsyxGrZiU+RMokQHIf7RgjUBrudDjYdA2XMKGHGK8xWm67rdowejbsHjKoNa5uYzU7rTSdBGTMiBFtwpVpzURP6QnA07h4hUAPKXezzT/pXdPNvqdjrtMWjZha8nLDGfBM15KImxOg5eI2AUdWLX7L87bufzU0wYqfTG6ie0/AyasQpD4xaiBCcg9eIEEgaHofCOlyTIithhlpwRbdj9KXCn/jX/pme6QGjkrSu4TF1GfMyxKpebd3uzX9SxSsFjEpSwOmQIV6Ha1Jkqluf3e4LgSRNOBpSZFtwZYpMFTv+IfHwA0bX2NHtvvB6AaOSdHSL4voUmWplt5PUP86FCMG7uEuEQLWqrdvFtnU+LjoUt5bUMvZzhGAf7hUhUJVq6napufet/4dW06sNgQ8saR12TsDoEbhjwKiqVG+3o9+tbnfzy+kuPAapMhRohOAI3DFCoPrU3O2m/0eN1T/O5PWkCMWhgVEKAaPH4b4Bo6pPzc/e73bqEyWrS7DoAaOL0v/buhXnDzMDRlWferrdo8ii0ir//wU/Mb/cN0Z34EbSGKj77vDxAkYXPP6I/X3qrPvdgemuPxhVfU55Njz2gNGX5tr6tuVXMrkkQtAdPp40Bur+XdwlQrDOyp8vzXf+xqgqc8qD4ZkHjJ6JVwoY1VVYd6lu1Otq04+Y7HadsNupW1SDFKE41vG7XU+u6HZfCM7Ba0QIpPpQo7oJj2GN1b8Vzq0DRlWZsx4Mjz1g9By8RsCopNXYPAPgA7+24Rfl5jt/Y1SVuajbfSE4GnePEEhqHFv6ONx3helnmGt/U26++TdGVZkTHwxPPmD0aNw9YFSS3j0ftv77p/nm3xhVZa7rdl8IjsN9IwSS9FYfmlvdpv9P+vnm3xhVZc59MDz8CMERuGOEQJImHA0RgiWbfoIZzHf+xqgqc3W3+0K2D/dKkUlSwOkQMFo2f6/LPP2ZJnMCRlWf058NJZAiexd3SZFJUoQDImD0ONw3YFT1ueLZUAUZ4i24MkMsSSnOiIDR43DfgFHV56JnQyGUMGMFLihhhiSlOCMiBEfgjhEC1ee6Z0MtLGNeimwFLpCkFGdEwOgRuGPAqKp06eOhIs7EK0lSwOkQIdiHe0UIVKUbHg91sc+T+8yvIknfOB0iBO/iLhli1eeeZ0NdvIu7WHCS1uFoSJG9hVtkiFWfm58NBbIal0UIMsSShsehUMKMLbhyAZNUn1qeDZVSwoynmJoikzQqzoKnmLoO1zzFVFWmnwdDoWWIJQ2GI2AdrlnGvBW4QJXp6sFQaxliScNg82eeRF/ma38hKylOmAdVm94eDOWWIZY0ALZ9hvhpA1uPe5XuRqCa9PlUqLgUmaSuseEzxAGj7+IuAaMBo6pJt0+FossQS+oR+zxFliHejusjBAGjqknPT4W6yxBL6gs7PEW2jHnrcE2GOEKganT+SKi7DLGkXrC3U2TrcE0JM55iasCoqtH/I6H0MsSSGseWzhBfhVcNGFU1RnkkFGCKTFKz2MwZ4gvxwgGjqsZAj4QazBBLag17OEN8LV47QqA6jPU8qMEMsaR2sHszxHfgHQSMqg7DPQ/KMEMsqQXs2xTZfXgfAaOqw4jPg0rMEEuqGzs2RXYr3kqEQBUY92FQjCkySbVir6bIKsAbChhVBYZ+GNRjhlhSTdifGeI68J4CRlWB0R8GJZkhllQHdmaGuBq8rQiB7uaTsOFJtWNPZogrw5sLGNXdfBIPVGWGWNJ92I0Z4vrw/gJGdTefxA9qM0Ms6XJswgxxlXiLAaO6m08iQXlmiCVdiO2XIqsYbzRCoFv5GH6jPDPEki7BxkuRVY+3GzCqW/kYCqjQDLGkM7HfMsQt4B0HjOpWPoZF1GmKTNI52GkZ4kbwpiMEuo/P4BnqNEMs6VBssAxxU3jrAaO6j8/gBUo1QyzpIGytDHFrePcBo7qPz+A1qjVDLGk3NlWGuEF8gAiBbuIDWIVqzRBL2oHtlCJrGZ8kYFQ38QFsQM2myCS9hY2UImscHyZgVDfxAWxD2WaIJa3G5skQt4/PEzCqm/gANqNyM8SSVmDbZIi7wEeKEOgOrv47qNwMsaSn2DAZ4o7wwQJGdQdX/00Ub4ZY0gK2Soa4L3y2gFHdwdXfhRJOkUnKsEkyxN3h40UIdDmXfi9KOEMsKWBvpMj6xecMGNXlXPoDUMUZYkmjtrovfNSAUV3OpT8GhZwhlsbGfkiR9Y5PGyHQtVz3I1HLKTJpSGyDDPEY+MwBo7qW634wyjlDLI2E6s8QD4OPHTCqa7nux6OiM8TSGKj7DPFI+OQBo7qW634KijpDLPWOis8QD4YPHyHQhVz0s1DUGWKpX9R6imxUrELAqC7kop+L0k6RST2iylNkA2MhAkZ1IRf9dFR3hljqCMWdIhsbaxEh0FVc8StQ3RliqX3UdIZY2RIxqqu44hehwDPEUsuo5gyxJixKwKiu4opfhxrPEEttoo4zxApYlwiBLuFyX40yT5FJraGCM8RKsToBo7qEy30DKj1DLDWCws0QK8MCBYzqEi73PSj2DLFUPUo2RaYFLFPAqC7hct+Ges8QSxWjWFNkWsZKRQh0Ptf6ZpR8ikyqDzWaIdYrrFfAqM7nWt+Pqs8QS9WgNDPEWoElCxjV+VzrKlD4GWKpAhRlhljrsGoRAp3Mha4FhZ8hlm5FOWaItQVrFzCqk7nQFaH2M8TSTSjEDLE2YvkCRnUyF7o67IAUmXQ5SjBFprewiBECnclVrhE7IEMsXYXKS5FpB5YyYFRncpUrxSbIEEsno+AyxNqH1QwY1Zlc5XqxDzLE0mkotQyxdmNBA0Z1Jle5amyFDLF0AoosQ6wjsKYRgm3+/f3g8snH338EylnBDaCSU2TSoSivDLGOw8oGjG7w+efrsqjBTf/9359P/lO/WMRteFRxCbF0BKoqQ6xDsbgBo6tNX+vSL3PzNz3b3QLruBnzlsgRS/tQTykynYAljhCsU2htdrunrOaWTDuigFh6F5WUItNpWOiA0ZX4O7vv5jb/t391t8iCbsyjvEuIpe2ooRSZzsRaB4yuN/9N3VeL+/Nn6ny2umes6SZNFV5ALK1D3WSIdTKWO0KwHt/wJv4M8ynLulXUd4ZYeoWKyRDrEix6wOgqNLr5C9331zy/3i2xshs2V3eOWFpGrWSIdRXWPWB0hd///uDL3PHsdwss7rY9iruEWCqhSjLEuhBLHzD6WqHZfSmPamJ992DaJr+RSSnqI0Wmy/EAIgQvFPua/wThGau8E9M2KSCWJpRFikw34TEEjL6S/4MD/wnCcxb67eLfqdr1xzLukCHW8CiIFNlzFOlydb6coGWPlYswusb8F3U/7HTPeBTe6tcfxnb/2Wyq+AJijYo6yBA/Ff1xrNzMXk7QcyxehECHcllvNJ8S6QEx/WFtz5kxbZYCYo2HCsgQPzV/efj4+1mo1cnLCVrjsYgRRnUol/VGpb9nLnXAN0xb5jcyjYRnnyF+4VGiUzEu1eXLCVpleiY/GNWhXNYblbpdefAd064pINYAeOQZ4g1eNjO73S7TY/nBqA7lst5oamy/D4jp1Dii232ZNk4BsbrGw84Qb2O3O930cH4wquO4pneaT4j4iGDkoG735XG3EmJ1isecInuH3e500yP6waiO45rebf6CF/C3/cd1uy/cOkOs7vCAU2RvstudbnpKPxjVcVzT2kzd74RDY95Cv5CpFzzXDPH77Hanmx5UgkAHcUErc1aze5i3UI5YjeNxZoh3sdtdYXpcPxjVQVzQqkxHxqE/xvyFbZQhVrN4kBnivex2V5ie2A9GdRAXtB7zeXFmr5vMGylHrAbxCDPEB7DbXWF6aAkCHcHVvFP6GyqXnhW8YopMTeHhZYh3+V2h+CnUlxO0DQsYMKojuJrjYj9liNUCnlmKTA3iEQaM6giu5tDYUhli1Y2nlSJTm3iKAaM6gqs5OnZVhlhV4iFliNUynmXAqHZzKeXR2RgeT4ZYjeNxBoxqN5dSYG+lyFQNHkyGWO3jiQaMajeXUj/YXhli3Y3nkSFWF3ioEQLt4zoqwfbKEOs+PIkMsTrCow0Y1T6uo35jh2WIdQeeQYpM3eEBB4xqH9dRBWyyDLGuxeqnyNQjnnGEQDu4iFrEPkuR6Sqse4pM/eJJB4xqBxdRz7DVMsQ6E2udIVbXeNgBo9rBRdQL7LYMsc7BKmeI1Tued8CodnAR9RobLkOso7G+GWKNgaceMKp3uYJaiz2XItNxWNkMsYbBgw8Y1btcQW3AtssQazcWNEWmwfD4A0b1LldQ27DzMsTagaVMkWk8VECEQG9x+bQZOy9DrLewiCkyjYo6CBjVW1w+vYPNlyHWFqxdhlgDoxQCRvUWl0/vYwumyLQOq5Yh1tiohgiBtnPttAtbMEOsp1isDLGUFQmj2s61017swgyxFrBMGWJpQlkEjGo7104HYCNmiJVhgTLEUkBlBIxqO9dOx2AvZogVYWlSZFKGEgkY1UYunI7EdkyRacKipMikEqokYFQbuXA6GDsyQzwwFiJDLC2gUAJGtZELp+OxKTPEQ2IJMsTSMmolQqAtXDWdgk2ZIR4MHz5DLL1CxQSMagtXTWdhX2aIh8HHzhBLK1A0AaPawlXTudidGeLe8WkzxNI61E2EQKu5ZDoduzND3C8+Z4pM2ogCChjVai6ZrsAGzRD3iE+YIpO2o4YCRrWaS6aLsEczxB3hg2WIpbdQRgGjWs0l06XYqSmyLvCRMsTSDhRTwKjWcb10NXZqhrhlfJIMsbQP9RQwqnVcL92AzZohbhOfIUMs7UZJBYxqHddL92C/Zohbw7vPEEtHoKoiBFrBxdJt2K8Z4nbwvlNk0qEor4BRreBi6Wbs2hRZC3jHKTLpaFRYwKhWcLF0PzZuhrhivNEUmXQCiixCoFdcKVWBjZshrg/vL0MsnYZSCxjVK66UasHezRDXhHeWIZbORLUFjOoVV0oVYftmiOvAe8oQSyej4AJG9YorpeqwiVNkd+PdZIilS1B2AaN6ymVSjdjEGeLtuL6EGStwQYpMuhDFFzCqp1wmVYp9nCFeh2vW4ZoFTEqRSdei/gJG9ZTLpHqxlTPETzF1O65PkaXIpMtRghECLXONVDt2c4qshBn7cK/luxFLN6EQA0a1zDVSA9jQGeIIwRGe3G1+LelG1GLAqJa5RmoDezpDPGFoAZNSZFtwpXQryjFCoAUukJrBns6sSV9i9ivMlipAUQaMaoELpJawrdfhmi24cgGTpDpQlwGjWuACqT1s7qeYuh3Xp8ikmlCdAaNa4AKpSezvBUx6F3dJkUk1oToDRlXi6qhV7O8M8T7cK0UmVYPSDBhViaujhrHFIwRH4I4RAqkalGbAqEpcHTWMLR4wehzuGyGQ6kBdRgiUcWnUKjZ3hOA43DdCIFWD0gwYVcalUavY3AGjR+PuAaNSNSjNgFFlXBo1iZ0dITgad48QSHWgLiMESrkuahLbOmD0HLxGwKhUDUozYFQp10VNYlsHjL7w7+8H8yd/Phl/gekBo1I1KM2AUaVcF7WHPR0heOrzz38ff//xH4//+rKq4U2vkCCQ6kBdBowq5bqoPezpgNGNpi96Uft7ilcKGJWqQWkGjCrioqg9bOiA0Y3sduoJpRkwqoiLovawoQNGN5l+kLm213mUqHqUZsCoIi6K2sOGDhh9LfktlfWt7gvXBIxK1aA0IwQKXBG1h90cMLrN/Fsq/iRT/aA6A0YVuCJqD7s5YHSzqeGt+2cI8wt9Y1SqCdUZMKrAFVF72M0Bo5tt+D0VXilgVKoJ1Rkh0MTlUHvYygGjm/ndTr2hQANGNXE51B62coTgmUdvi1rb/Bsrq77ZzS8RI5AqQ4EGjGricqhJ7OaA0efmX0z5tvqXMpkfMCrVhxoNGNXE5VCT2M0Bo+fgNQJGpSpRpgGjstupUWzlCMEJeIGAUalKlGnAqOx2ahe7OWD0aNw9QiBViTINGJXdTu1iN0cIDsWt1+Ea6T7UYoRgeC6EWsVWjhAch/vuxu2kS1B2AaPDcyHUMHZzhOAI3PFMvJJ0KMqrhBlDcr+pYezgFNk+3Os+vA9pC6pnBS4YiZtKbWPvpsjexV1SZHc3Qt6ElKI+NuLiMbh51Dw2bopsO65Pkb3C7DvwDjQeKmAHbtQ7N4l6wK5NkW3BlSmyHbjRTXgT6hHPeDdu1zV3gjrBrs0Qv8LsDPE5eI2b8CbULB5kSZzOk2cMLWBSp6x49YMtu4BJKbIFTLoD7+AOvANVjEdVwoynmFrCjB5Z2eoKW/YI3LEyvLmb8CZ0N55Himw1LssQd8fyVW/Ysvtwr3bwvm/Cm9AlWPQU2XZcHyHojmWqPrFxt+P6jvDB7sA70HFY2QjBDtwoQtAXy1E9Y++uwzXD4GPfgXegjVi+FNk+3CtC0BHLTkNgB5cwQwHrchPehEpYowjBbtwuQtARa0vSKpyCN+FNDIyFiBAchJtGCHphDUnai9PxDryDAfCBA0YPxa0DRntht5N0Fk7Nm/AmusBHihAciltHCLpgt5N0NY7Sm/AmmsJbDxg9AS8QMNoFu52kinDK3oF3UCXeYsDoa//+fkwX/Plk4JVp9g9Gu2C3k9QATt+b8Cbuw/sIGH1l6nUfH1//Y7ez20lqGqfyTXgTJ+PFIgQvfP55tLmp5a3udl94jYDR9tntJPWJ0/oOvIODcNOA0Vceve7j77/5C57dzm4naTSc4jfhTWzBlQGjzz163KPX8eNMu53dTpJmnO434U2UMCNg9Jm4w9ntYLeTpBc4+O+Qv/r8lp6Z/8KO/7DbwW4nSW+iIVyL114U/sIOdjvY7STpYDSK0/AyRY9mV7ay5TE7YLR9djtJz/w6PKMvDdqMRdyN263idzvY7SQtepyUv38oZsM7xdxaVuKaVex2sNtJWm/ud1vOTu0zt5xfyFbZ1u14gYDRLtjtJK1nt7vH3Hu+MXoCXiBgtAt2O0nrTX+L548yLzf3nm+MnoAXCBjtgt1O0krzL6zY624wtZ4EwaG4dYSgC3Y7Sc/MP7sMbHW34QkEjB6KWweM9sJuJ2k1v93dZ2pACYKDcNMIQS/sdpK28G/u7jM3oRjBbtwuQtARu52kLfytzPvMfShGsBu3ixB0xG4naQu/291qbkUxgh24UYSgL3Y7SUsenS1pbPMXO3vdreaG9AvZdlwfIeiO3U7SsvQ3Mr/Y6W7Hk8gQr8ZlGeLu2O0kqTH0pRJmPMXUEmb0yG4nSe2hOy1gUoZ4AZM6ZbeTpFbRpo7AHftlt5OkhtGsduBGvbPbSVLzaFzbcf0A7HaS1Ak62DpcMwy7nSR1hW62gEnjsdtJkvpnt5Mk9c9uJ0nqn91OktQ/u50kqX92O0lS/+x2kqT+2e0kSf2z20mS+me3kyT1z24nSeqf3U6S1D+7nSSpf3Y7SVL/7HaSpP7Z7SRJ/bPbSZL6Z7eTJPXPbidJ6p/dTpLUP7udJKl/djtJUv/sdpKk/tntJEn9s9tJkvpnt5Mk9c9uJ0nqn91OktQ/u50kqX92O0lS/+x2kqT+2e0kSf2z20mS+me3kyT1z24nSeqf3U6S1D+7nSSpf3Y7SVL/7HaSpP7Z7SRJ/bPbSZL6Z7eTJPXPbidJ6p/dTpLUP7udJKl/djtJUv/sdpKk3v3vf/8HODWt8VqFPB8AAAAASUVORK5CYII=)"
      ],
      "metadata": {
        "id": "kpBUckRW2OUj"
      }
    },
    {
      "cell_type": "code",
      "source": [
        "import networkx as nx \n",
        "import matplotlib.pyplot as plt\n",
        "from tabulate import tabulate\n",
        "\n",
        "G = nx.Graph()\n",
        "G.add_nodes_from([1,2,3,4,5])\n",
        "G.add_edges_from([(1,2),(2,3),(3,4),(4,2),(3,5),(5,1),(5,2)])\n",
        "\n",
        "G[1][2]['peso'] = 5\n",
        "G[2][3]['peso'] = 11\n",
        "G[3][4]['peso'] = 3\n",
        "G[2][4]['peso'] = 8\n",
        "G[5][2]['peso'] = 15\n",
        "G[1][5]['peso'] = 2\n",
        "G[5][3]['peso'] = 9\n",
        "\n",
        "vertices = list(G.nodes)\n",
        "tabela = []\n",
        "\n",
        "for i in range(0, len(vertices)):\n",
        "  tabela.append([])\n",
        "\n",
        "for l in range(0, len(tabela)):\n",
        "  tabela[l].append(vertices[l])\n",
        "\n",
        "\n",
        "def Menor_Caminho(grafo, vertices, tabela, verticeInicio):\n",
        "  linhatX = 1\n",
        "\n",
        "  for q in tabela:\n",
        "    if verticeInicio in q:\n",
        "      q.append(\"X\")\n",
        "      q.append(0)\n",
        "      q.append(\" - \")\n",
        "  \n",
        "  for w in tabela:\n",
        "    if w[0] != verticeInicio:\n",
        "      w.append(' ')\n",
        "\n",
        "  for e in tabela:\n",
        "    if e[0] in list(nx.neighbors(grafo, verticeInicio)):\n",
        "      e.append(grafo[verticeInicio][e[0]]['peso'])\n",
        "      e.append(verticeInicio)\n",
        "\n",
        "  while linhatX < len(tabela):\n",
        "\n",
        "    Tamanhos = []\n",
        "    for r in range(0, len(tabela)):\n",
        "      if len(tabela[r]) == 4 and tabela[r][1] != \"X\":\n",
        "        Tamanhos.append(tabela[r][2])\n",
        "        \n",
        "    menorCaminho = min(Tamanhos)\n",
        "\n",
        "    for t in range(0, len(tabela)):\n",
        "      if len(tabela[t]) == 4 and tabela[t][2] == menorCaminho:\n",
        "        tabela[t][1] = \"X\"\n",
        "        linhatX += 1\n",
        "        no = tabela[t][0]\n",
        "        proximos = list(nx.neighbors(grafo, no))\n",
        "\n",
        "    for w in tabela:\n",
        "      if len(w) != 4:\n",
        "        w.append(100000000)\n",
        "        w.append(\" \")\n",
        "\n",
        "    for y in tabela:\n",
        "      if y[0] in proximos and y[1] != \"X\":      \n",
        "        if y[2] > menorCaminho + grafo[no][y[0]]['peso']:\n",
        "          y[2] = menorCaminho + grafo[no][y[0]]['peso']\n",
        "          y[3] = no\n",
        "\n",
        "\n",
        "  print(tabulate(tabela, headers=[\"Vertices\", \"S\", \"Tamanho\", \"Caminho\"], tablefmt='orgtbl', stralign=\"center\", numalign=\"center\"))\n",
        "\n",
        "\n",
        "\n",
        "Menor_Caminho(G, vertices, tabela, 1)"
      ],
      "metadata": {
        "id": "U8AvfFAA2YLi"
      },
      "execution_count": null,
      "outputs": []
    }
  ]
}